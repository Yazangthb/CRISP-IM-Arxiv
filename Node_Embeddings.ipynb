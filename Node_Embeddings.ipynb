{
 "cells": [
  {
   "cell_type": "code",
   "execution_count": 1,
   "metadata": {},
   "outputs": [
    {
     "name": "stderr",
     "output_type": "stream",
     "text": [
      "'wget' is not recognized as an internal or external command,\n",
      "operable program or batch file.\n",
      "'gunzip' is not recognized as an internal or external command,\n",
      "operable program or batch file.\n"
     ]
    }
   ],
   "source": [
    "!wget https://github.com/mattbierbaum/arxiv-public-datasets/releases/download/v0.2.0/internal-references-v0.2.0-2019-03-01.json.gz\n",
    "\n",
    "!gunzip /kaggle/working/internal-references-v0.2.0-2019-03-01.json.gz"
   ]
  },
  {
   "cell_type": "code",
   "execution_count": null,
   "metadata": {},
   "outputs": [],
   "source": [
    "import json\n",
    "import networkx as nx\n",
    "from tqdm import tqdm\n",
    "\n",
    "# Initialize directed graph (citations are directional)\n",
    "G = nx.DiGraph()\n",
    "\n",
    "# Load citations with progress monitoring\n",
    "with open(\"/kaggle/working/internal-references-v0.2.0-2019-03-01.json\", \"r\") as f:\n",
    "    citations = json.load(f)\n",
    "    print(f\"Loaded {len(citations):,} papers\")\n",
    "\n",
    "# Build graph in memory-efficient way\n",
    "added_edges = 0\n",
    "for citing_paper, cited_papers in tqdm(citations.items(), desc=\"Building graph\"):\n",
    "    if cited_papers:  # Only process papers with citations\n",
    "        G.add_node(citing_paper)\n",
    "        for cited_paper in cited_papers:\n",
    "            G.add_node(cited_paper)\n",
    "            G.add_edge(citing_paper, cited_paper)\n",
    "            added_edges += 1\n",
    "\n",
    "# Basic graph analysis\n",
    "print(f\"\\nFinal Graph Stats:\")\n",
    "print(f\"- Nodes: {G.number_of_nodes():,}\")\n",
    "print(f\"- Edges: {G.number_of_edges():,}\")\n",
    "print(f\"- Average degree: {sum(dict(G.degree()).values())/G.number_of_nodes():.1f}\")\n",
    "\n",
    "# Save graph for later use (optional)\n",
    "nx.write_edgelist(G, \"arxiv_citation_graph.edgelist\")"
   ]
  }
 ],
 "metadata": {
  "kernelspec": {
   "display_name": "GPU_env",
   "language": "python",
   "name": "python3"
  },
  "language_info": {
   "codemirror_mode": {
    "name": "ipython",
    "version": 3
   },
   "file_extension": ".py",
   "mimetype": "text/x-python",
   "name": "python",
   "nbconvert_exporter": "python",
   "pygments_lexer": "ipython3",
   "version": "3.9.21"
  }
 },
 "nbformat": 4,
 "nbformat_minor": 2
}
